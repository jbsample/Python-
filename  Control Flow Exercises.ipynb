{
 "cells": [
  {
   "cell_type": "markdown",
   "id": "2ee4911d",
   "metadata": {},
   "source": [
    "Exercise 1:\n",
    "Guess a number between 1 to 9 given by the user"
   ]
  },
  {
   "cell_type": "code",
   "execution_count": 4,
   "id": "9e7a5609",
   "metadata": {},
   "outputs": [
    {
     "name": "stdout",
     "output_type": "stream",
     "text": [
      "Number: 5\n",
      "Guess a number between 1 to 9 5\n",
      "CORRECT!\n"
     ]
    }
   ],
   "source": [
    "import random\n",
    "\n",
    "a=int(input(\"Number: \")) \n",
    "\n",
    "b= random.randint(1, 9)\n",
    "\n",
    "while a!= b:\n",
    "\n",
    "    b= int(input('Guess a number between 1 to 9 '))\n",
    "\n",
    "print('CORRECT!')\n",
    "\n"
   ]
  },
  {
   "cell_type": "markdown",
   "id": "2647c218",
   "metadata": {},
   "source": [
    "Exercise 2:\n",
    "Check the validity of password input by the user.\n",
    "\n",
    "Validation:\n",
    "At least 1 letter between [a-z] and 1 letter between [A-Z];\n",
    "At least 1 number between [0-9];\n",
    "At least 1 character from [$#@];\n",
    "Minimum length 6 characters;\n",
    "Maximum length 16 characters"
   ]
  },
  {
   "cell_type": "code",
   "execution_count": 6,
   "id": "2c6a6046",
   "metadata": {},
   "outputs": [
    {
     "name": "stdout",
     "output_type": "stream",
     "text": [
      "Password: $JoshTerry23\n",
      "Valid Password\n"
     ]
    }
   ],
   "source": [
    "import re\n",
    "p= input(\"Password: \")\n",
    "x = True\n",
    "while x:  \n",
    "    if (len(p)<6 or len(p)>12):\n",
    "        break\n",
    "    elif not re.search(\"[a-z]\",p):\n",
    "        break\n",
    "    elif not re.search(\"[0-9]\",p):\n",
    "        break\n",
    "    elif not re.search(\"[A-Z]\",p):\n",
    "        break\n",
    "    elif not re.search(\"[$#@]\",p):\n",
    "        break\n",
    "    elif re.search(\"\\s\",p):\n",
    "        break\n",
    "    else:\n",
    "        print(\"Valid Password\")\n",
    "        x=False\n",
    "        break\n",
    "\n",
    "if x:\n",
    "    print(\"INVALID\")"
   ]
  },
  {
   "cell_type": "markdown",
   "id": "5ebdde72",
   "metadata": {},
   "source": [
    "Exercise 3: \n",
    "Get input of the age of 3 people by user and determine oldest and youngest among them"
   ]
  },
  {
   "cell_type": "code",
   "execution_count": 9,
   "id": "c51abaf9",
   "metadata": {},
   "outputs": [
    {
     "name": "stdout",
     "output_type": "stream",
     "text": [
      "Enter age of First Person : 12\n",
      "Enter age of Second Person : 2\n",
      "Enter age of Third Person : 16\n",
      "Third is oldest\n",
      "Second is youngest\n"
     ]
    }
   ],
   "source": [
    "\n",
    "firstPerson = eval(input(\"Enter age of First Person : \"))\n",
    "secondPerson = eval(input(\"Enter age of Second Person : \"))\n",
    "thirdPerson = eval(input(\"Enter age of Third Person : \"))\n",
    "\n",
    "# check oldest\n",
    "if firstPerson > secondPerson and firstPerson > thirdPerson:\n",
    "    print(\"First is oldest\")\n",
    "elif secondPerson > firstPerson and secondPerson > thirdPerson:\n",
    "    print(\"Second is oldest\")\n",
    "elif thirdPerson> firstPerson and thirdPerson >secondPerson:\n",
    "    print(\"Third is oldest\")\n",
    "\n",
    "# check youngest\n",
    "if firstPerson < secondPerson and firstPerson < thirdPerson:\n",
    "    print(\"First is youngest\")\n",
    "elif secondPerson < firstPerson and secondPerson < thirdPerson:\n",
    "    print(\"Second is youngest\")\n",
    "elif thirdPerson < firstPerson and thirdPerson < secondPerson:\n",
    "    print(\"Third is youngest\")"
   ]
  },
  {
   "cell_type": "markdown",
   "id": "1f442afe",
   "metadata": {},
   "source": [
    "Exercise 4: A student will not be allowed to sit in exam if his/her attendance is less than 75%.\n",
    "\n",
    "Take following input from user\n",
    "\n",
    "Number of classes held\n",
    "Number of classes attended.\n",
    "And print\n",
    "percentage of class attended\n",
    "Is student is allowed to sit in exam or not?\n",
    "\n"
   ]
  },
  {
   "cell_type": "code",
   "execution_count": 11,
   "id": "ab1af403",
   "metadata": {},
   "outputs": [
    {
     "name": "stdout",
     "output_type": "stream",
     "text": [
      "Enter total number of classes held in school : 8\n",
      "Enter total number of classes attended by the student : 6\n",
      "Allowed to sit in the exam.\n"
     ]
    }
   ],
   "source": [
    "\n",
    "classesHeld = eval(input(\"Enter total number of classes held in school : \"))\n",
    "\n",
    "# Get total classes attended by the student\n",
    "classesAttended = eval(input(\"Enter total number of classes attended by the student : \"))\n",
    "\n",
    "# Get percent of the attendance\n",
    "attendancePercent = (classesAttended / classesHeld) * 100\n",
    "\n",
    "# Check if percent is above 75 i.e., eligible to sit in exam or not\n",
    "if attendancePercent < 75:\n",
    "    print(\"Not allowed to sit in exam\")\n",
    "else:\n",
    "    print(\"Allowed to sit in the exam.\")"
   ]
  },
  {
   "cell_type": "markdown",
   "id": "f46bed6e",
   "metadata": {},
   "source": [
    "Exercise 5:\n",
    "\n",
    "Get an integer N from the user and perform the following actions:\n",
    "\n",
    "if N is odd, print \"weird\"\n",
    "if N is even and in the inclusive range of 2 to 5, print \"Not Weird\"\n",
    "if N is even and in the inclusive range of 6 to 20, print \"Weird\"\n",
    "if N is even and greater than 20, print \"Not Weird\""
   ]
  },
  {
   "cell_type": "code",
   "execution_count": 15,
   "id": "20c04961",
   "metadata": {},
   "outputs": [
    {
     "name": "stdout",
     "output_type": "stream",
     "text": [
      "Enter a number: 16\n",
      "Weird\n"
     ]
    }
   ],
   "source": [
    "N = int(input(\"Enter a number: \"))\n",
    "\n",
    "if N % 2 != 0:\n",
    "    print(\"Weird\")\n",
    "else:\n",
    "    if N >= 2 and N <= 5:\n",
    "        print(\"Not Weird\")\n",
    "    elif N >= 6 and N <= 20:\n",
    "        print(\"Weird\")\n",
    "    elif N > 20:\n",
    "        print(\"Not Weird\")"
   ]
  }
 ],
 "metadata": {
  "kernelspec": {
   "display_name": "Python 3 (ipykernel)",
   "language": "python",
   "name": "python3"
  },
  "language_info": {
   "codemirror_mode": {
    "name": "ipython",
    "version": 3
   },
   "file_extension": ".py",
   "mimetype": "text/x-python",
   "name": "python",
   "nbconvert_exporter": "python",
   "pygments_lexer": "ipython3",
   "version": "3.9.12"
  }
 },
 "nbformat": 4,
 "nbformat_minor": 5
}
