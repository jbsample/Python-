{
 "cells": [
  {
   "cell_type": "code",
   "execution_count": 3,
   "id": "f96fefe8",
   "metadata": {},
   "outputs": [
    {
     "name": "stdout",
     "output_type": "stream",
     "text": [
      "Year: 2000\n",
      "True\n"
     ]
    }
   ],
   "source": [
    "def is_leap(year):\n",
    "    leap = False\n",
    "    \n",
    "    # Write your logic here\n",
    "    if year % 400 == 0:\n",
    "        leap = True\n",
    "    elif year % 100 == 0:\n",
    "        leap = False\n",
    "    elif year % 4 == 0:\n",
    "        leap = True\n",
    "    \n",
    "    return leap\n",
    "    \n",
    "year = int(input('Year: '))\n",
    "print(is_leap(year))"
   ]
  },
  {
   "cell_type": "code",
   "execution_count": null,
   "id": "0bb3881d",
   "metadata": {},
   "outputs": [
    {
     "name": "stdout",
     "output_type": "stream",
     "text": [
      "5\n",
      "3\n",
      "Error Code: not enough values to unpack (expected 2, got 1)\n"
     ]
    }
   ],
   "source": [
    "# Enter your code here. Read input from STDIN. Print output to STDOUT\n",
    "x= int(input())\n",
    "\n",
    "for i in range (x):\n",
    "    try:\n",
    "        a, b = input().split()\n",
    "        print(int(a)//int(b))\n",
    "    except ZeroDivisionError as e:\n",
    "        print(\"Error Code:\",e);\n",
    "    except ValueError as v:\n",
    "        print(\"Error Code:\",v);"
   ]
  },
  {
   "cell_type": "code",
   "execution_count": null,
   "id": "1a21938b",
   "metadata": {},
   "outputs": [],
   "source": []
  }
 ],
 "metadata": {
  "kernelspec": {
   "display_name": "Python 3 (ipykernel)",
   "language": "python",
   "name": "python3"
  },
  "language_info": {
   "codemirror_mode": {
    "name": "ipython",
    "version": 3
   },
   "file_extension": ".py",
   "mimetype": "text/x-python",
   "name": "python",
   "nbconvert_exporter": "python",
   "pygments_lexer": "ipython3",
   "version": "3.9.12"
  }
 },
 "nbformat": 4,
 "nbformat_minor": 5
}
