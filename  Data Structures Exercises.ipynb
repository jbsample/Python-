{
 "cells": [
  {
   "cell_type": "markdown",
   "id": "878c95a8",
   "metadata": {},
   "source": [
    "1. Write a function solve_quadratic, that returns both solutions of a generic quadratic as a pair (2-tuple) when the coefficients are given as parameters."
   ]
  },
  {
   "cell_type": "code",
   "execution_count": 1,
   "id": "e2ee97b0",
   "metadata": {},
   "outputs": [
    {
     "name": "stdout",
     "output_type": "stream",
     "text": [
      " a = 1\n",
      "b = 2\n",
      "c = 1\n",
      "(-1.0, -1.0)\n"
     ]
    }
   ],
   "source": [
    "import math\n",
    "\n",
    "def solve_quadratic(a,b,c):\n",
    "\n",
    "    d = (b**2) - (4*a*c)\n",
    "    sqrt_value = round(math.sqrt(abs(d)))\n",
    "    sol1 = (-b + sqrt_value)/(2*a)\n",
    "    sol2 = (-b - sqrt_value)/(2*a)\n",
    "\n",
    "    if d > 0:\n",
    "        print((sol1,sol2))\n",
    "        \n",
    "       \n",
    "    elif d == 0:\n",
    "        x1 = -b/(2*a)\n",
    "        x2 = -b/(2*a)\n",
    "        print((x1,x2))\n",
    "\n",
    "\n",
    "    else:\n",
    "        print(-b/(2*a),sqrt_value),(-b/(2*a),sqrt_value)\n",
    "\n",
    "\n",
    "a = float(input(' a = '))\n",
    "b = float(input('b = '))\n",
    "c = float(input('c = '))\n",
    "\n",
    "\n",
    "if a == 0:\n",
    "    print(\"input correct quadratic equation\")\n",
    "\n",
    "else:\n",
    "    solve_quadratic(a,b,c)\n",
    "    "
   ]
  },
  {
   "cell_type": "markdown",
   "id": "96556be6",
   "metadata": {},
   "source": [
    "2. Get a space-separated list of integers from the user, create a tuple of those integers. Then compute and print the result of hash(tuple)."
   ]
  },
  {
   "cell_type": "code",
   "execution_count": 4,
   "id": "2a437437",
   "metadata": {},
   "outputs": [
    {
     "name": "stdout",
     "output_type": "stream",
     "text": [
      "2\n",
      "3\n",
      "-5029647727744300836\n"
     ]
    }
   ],
   "source": [
    "if __name__ == '__main__':\n",
    "    n = int(input())\n",
    "    integer_list = map(int, input().split())\n",
    "    # Tuples in Python - Hacker Rank Solution START\n",
    "    t = tuple(integer_list)\n",
    "    print(hash(t));"
   ]
  },
  {
   "cell_type": "markdown",
   "id": "9225093c",
   "metadata": {},
   "source": [
    "3. Take the following two lists. Create a third list by picking a odd-index elements from the first list and even-index elements from the second:\n",
    "\n",
    "listOne = [3, 6, 9, 12, 15, 18, 21]\n",
    "listTwo = [4, 8, 12, 16, 20, 24, 28]\n",
    "\n"
   ]
  },
  {
   "cell_type": "code",
   "execution_count": 3,
   "id": "a07864a4",
   "metadata": {},
   "outputs": [
    {
     "name": "stdout",
     "output_type": "stream",
     "text": [
      "[6, 12, 18, 4, 12, 20, 28]\n"
     ]
    }
   ],
   "source": [
    "listOne = [3, 6, 9, 12, 15, 18, 21]\n",
    "listTwo = [4, 8, 12, 16, 20, 24, 28]\n",
    "listThree = listOne[1::2]\n",
    "listFour = listTwo[::2]\n",
    "newList = listThree + listFour\n",
    "\n",
    "print(newList)\n"
   ]
  },
  {
   "cell_type": "markdown",
   "id": "59a68a13",
   "metadata": {},
   "source": [
    "4. Take the following list. Slice it into three equal chunks and reverse each list.\n",
    "\n",
    "sampleList = [11, 45, 8, 23, 14, 12, 78, 45, 89]"
   ]
  },
  {
   "cell_type": "code",
   "execution_count": 8,
   "id": "5ac91604",
   "metadata": {},
   "outputs": [
    {
     "name": "stdout",
     "output_type": "stream",
     "text": [
      "Chunk  1 [11, 45, 8]\n",
      "Reversed:  [8, 45, 11]\n",
      "Chunk  2 [23, 14, 12]\n",
      "Reversed:  [12, 14, 23]\n",
      "Chunk  3 [78, 45, 89]\n",
      "Reversed:  [89, 45, 78]\n"
     ]
    }
   ],
   "source": [
    " sampleList = [11, 45, 8, 23, 14, 12, 78, 45, 89]\n",
    "\n",
    "\n",
    "length = len(sampleList)\n",
    "chunk_size = int(length / 3)\n",
    "start = 0\n",
    "end = chunk_size\n",
    "\n",
    "\n",
    "for i in range(3):\n",
    "    indexes = slice(start, end)\n",
    "    \n",
    "    list_chunk = sampleList[indexes]\n",
    "    print(\"Chunk \",i + 1, list_chunk)\n",
    "    \n",
    "    print(\"Reversed: \", list(reversed(list_chunk)))\n",
    "\n",
    "    start = end\n",
    "    end += chunk_size"
   ]
  },
  {
   "cell_type": "markdown",
   "id": "3b4b09d3",
   "metadata": {},
   "source": [
    "5. Iterate through a given list and check if a given element already exists in a dictionary as a key’s value. If not, delete it from the list.\n",
    "\n",
    "rollNumber = [47, 64, 69, 37, 76, 83, 95, 97]\n",
    "sampleDict ={'Zach':47, 'Emma':69, 'Kelly':76, 'Jason':97}"
   ]
  },
  {
   "cell_type": "code",
   "execution_count": 2,
   "id": "c6fdea29",
   "metadata": {},
   "outputs": [
    {
     "name": "stdout",
     "output_type": "stream",
     "text": [
      "[47, 69, 76, 97]\n"
     ]
    }
   ],
   "source": [
    "rollNumber = [47, 64, 69, 37, 76, 83, 95, 97] \n",
    "sampleDict ={'Zach':47, 'Emma':69, 'Kelly':76, 'Jason':97}\n",
    "\n",
    "roll_number= [item for item in rollNumber if item in sampleDict.values()]\n",
    "print(roll_number)"
   ]
  },
  {
   "cell_type": "code",
   "execution_count": null,
   "id": "5991f86e",
   "metadata": {},
   "outputs": [],
   "source": []
  },
  {
   "cell_type": "code",
   "execution_count": null,
   "id": "f0cbc08c",
   "metadata": {},
   "outputs": [],
   "source": []
  }
 ],
 "metadata": {
  "kernelspec": {
   "display_name": "Python 3 (ipykernel)",
   "language": "python",
   "name": "python3"
  },
  "language_info": {
   "codemirror_mode": {
    "name": "ipython",
    "version": 3
   },
   "file_extension": ".py",
   "mimetype": "text/x-python",
   "name": "python",
   "nbconvert_exporter": "python",
   "pygments_lexer": "ipython3",
   "version": "3.9.12"
  }
 },
 "nbformat": 4,
 "nbformat_minor": 5
}
