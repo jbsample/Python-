{
 "cells": [
  {
   "cell_type": "code",
   "execution_count": 8,
   "id": "3487cdd2",
   "metadata": {},
   "outputs": [
    {
     "name": "stdout",
     "output_type": "stream",
     "text": [
      "5\n",
      "3\n",
      "(5, 3) "
     ]
    }
   ],
   "source": [
    "from itertools import product\n",
    "A = input().split()\n",
    "A = list(map(int,A))\n",
    "B = input().split()\n",
    "B = list(map(int, B))\n",
    "output = list(product(A,B))\n",
    "for i in output:\n",
    "    print(i, end = \" \");\n"
   ]
  },
  {
   "cell_type": "code",
   "execution_count": 9,
   "id": "836257ab",
   "metadata": {},
   "outputs": [
    {
     "name": "stdout",
     "output_type": "stream",
     "text": [
      "HACK 2\n",
      "AC\n",
      "AH\n",
      "AK\n",
      "CA\n",
      "CH\n",
      "CK\n",
      "HA\n",
      "HC\n",
      "HK\n",
      "KA\n",
      "KC\n",
      "KH\n"
     ]
    }
   ],
   "source": [
    "from itertools import permutations\n",
    "\n",
    "s,k = input().split()\n",
    "\n",
    "words = list(permutations(s,int(k)))\n",
    "words = sorted(words, reverse=False)\n",
    "for word in words:\n",
    "    print(*word,sep='')"
   ]
  },
  {
   "cell_type": "code",
   "execution_count": 10,
   "id": "c5daf9e3",
   "metadata": {},
   "outputs": [
    {
     "name": "stdout",
     "output_type": "stream",
     "text": [
      "HACK 2\n",
      "AA\n",
      "AC\n",
      "AH\n",
      "AK\n",
      "CC\n",
      "CH\n",
      "CK\n",
      "HH\n",
      "HK\n",
      "KK\n"
     ]
    }
   ],
   "source": [
    "from itertools import combinations_with_replacement\n",
    "s,k=input().split()\n",
    "for i in combinations_with_replacement(sorted(s),int(k)):\n",
    "    print(\"\".join(i))"
   ]
  },
  {
   "cell_type": "code",
   "execution_count": null,
   "id": "c5468567",
   "metadata": {},
   "outputs": [],
   "source": []
  }
 ],
 "metadata": {
  "kernelspec": {
   "display_name": "Python 3 (ipykernel)",
   "language": "python",
   "name": "python3"
  },
  "language_info": {
   "codemirror_mode": {
    "name": "ipython",
    "version": 3
   },
   "file_extension": ".py",
   "mimetype": "text/x-python",
   "name": "python",
   "nbconvert_exporter": "python",
   "pygments_lexer": "ipython3",
   "version": "3.9.12"
  }
 },
 "nbformat": 4,
 "nbformat_minor": 5
}
