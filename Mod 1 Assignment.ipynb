{
 "cells": [
  {
   "cell_type": "markdown",
   "id": "f8a3e834",
   "metadata": {},
   "source": [
    "1. Accept the user's first and last name and print them in reverse order with a space between them"
   ]
  },
  {
   "cell_type": "code",
   "execution_count": 2,
   "id": "16758089",
   "metadata": {},
   "outputs": [
    {
     "name": "stdout",
     "output_type": "stream",
     "text": [
      "Input your First Name: Jasmine\n",
      "Input your Last Name: Sample\n",
      "Sample Jasmine\n"
     ]
    }
   ],
   "source": [
    "#collects user's first name\n",
    "firstname = input(\"Input your First Name: \")\n",
    "\n",
    "#collects user's last name\n",
    "lastname = input(\"Input your Last Name: \")\n",
    "\n",
    "#Display's user's name with last name first.\n",
    "print(lastname,firstname)"
   ]
  },
  {
   "cell_type": "markdown",
   "id": "637ed332",
   "metadata": {},
   "source": [
    "2. Accept an integer (n) input from the user and compute the value of n+nn+nnn. For example if n=4 then n + nn + nnn = 4 + 44 + 444 = 492"
   ]
  },
  {
   "cell_type": "code",
   "execution_count": 3,
   "id": "845ac062",
   "metadata": {},
   "outputs": [
    {
     "name": "stdout",
     "output_type": "stream",
     "text": [
      "Input an Integer: 4\n",
      "492\n"
     ]
    }
   ],
   "source": [
    "n = int(input(\"Input an Integer: \")) #Collects user's input for integer;defines n.\n",
    "nn = 10*n+n # Defines and calculates nn\n",
    "nnn = 100*n + 10*n + n #Defines and calculates nnn\n",
    "total = n + nn + nnn #sums all variables and defines total variable.\n",
    "print(total) #displays total "
   ]
  },
  {
   "cell_type": "markdown",
   "id": "b91551d5",
   "metadata": {},
   "source": [
    "3. Ask the user \"What country are you from?\" then print the following statement: \"I have heard that [input] is a beautiful country!\""
   ]
  },
  {
   "cell_type": "code",
   "execution_count": 4,
   "id": "68e4f877",
   "metadata": {},
   "outputs": [
    {
     "name": "stdout",
     "output_type": "stream",
     "text": [
      "What country are you from?United States\n",
      "I have heard that United States is a beautiful country!\n"
     ]
    }
   ],
   "source": [
    "country = input(\"What country are you from?\") #Collects user's country\n",
    "print(\"I have heard that\",country,\"is a beautiful country!\")"
   ]
  },
  {
   "cell_type": "markdown",
   "id": "61063d2f",
   "metadata": {},
   "source": [
    "4. What is the output of the following Python code\n",
    "x = 10\n",
    "y = 50\n",
    "if (x ** 2 > 100 and y < 100):\n",
    "    print(x, y)"
   ]
  },
  {
   "cell_type": "code",
   "execution_count": 5,
   "id": "c89b6441",
   "metadata": {},
   "outputs": [],
   "source": [
    "x = 10   #sets x and y parameters\n",
    "y = 10\n",
    "\n",
    "#if statement \n",
    "if x**2 > 100 and y<100:  \n",
    "    print(x,y)"
   ]
  },
  {
   "cell_type": "markdown",
   "id": "e7228ee6",
   "metadata": {},
   "source": [
    "There is no out put because the parameters do not pass the conditional statements."
   ]
  },
  {
   "cell_type": "markdown",
   "id": "fc1870ee",
   "metadata": {},
   "source": [
    "5. What is the output of the following addition (+) operator, and why does this code chunk execute this way?"
   ]
  },
  {
   "cell_type": "code",
   "execution_count": 7,
   "id": "5f357e84",
   "metadata": {},
   "outputs": [
    {
     "name": "stdout",
     "output_type": "stream",
     "text": [
      "[10, 20, 30, 40]\n",
      "[10, 20, 30, 40]\n"
     ]
    }
   ],
   "source": [
    "a = [10, 20]\n",
    "b = a\n",
    "b += [30, 40]\n",
    "print(a)\n",
    "print(b)           #the operator adds list b to list a."
   ]
  },
  {
   "cell_type": "markdown",
   "id": "b88e8686",
   "metadata": {},
   "source": [
    "6. What is the output of the following code and what arithmetic operators is being used here? print(2%6)"
   ]
  },
  {
   "cell_type": "code",
   "execution_count": 8,
   "id": "ba167724",
   "metadata": {},
   "outputs": [
    {
     "name": "stdout",
     "output_type": "stream",
     "text": [
      "2\n"
     ]
    }
   ],
   "source": [
    "print(2%6)  #modulus operator returns remainder of operands."
   ]
  },
  {
   "cell_type": "markdown",
   "id": "a79ccc85",
   "metadata": {},
   "source": [
    "7. What is the output of the following code and what arithmetic operators are used here? print(2 * 3 ** 3 * 4)"
   ]
  },
  {
   "cell_type": "code",
   "execution_count": 9,
   "id": "9144d169",
   "metadata": {},
   "outputs": [
    {
     "name": "stdout",
     "output_type": "stream",
     "text": [
      "216\n"
     ]
    }
   ],
   "source": [
    "print(2 * 3 ** 3 * 4) #Operands: multiplication & power"
   ]
  },
  {
   "cell_type": "markdown",
   "id": "6a16c54e",
   "metadata": {},
   "source": [
    "8. What is a text editor? "
   ]
  },
  {
   "cell_type": "code",
   "execution_count": 11,
   "id": "aa1b2db1",
   "metadata": {},
   "outputs": [],
   "source": [
    "# A program or system that allows user's to edit or input text "
   ]
  },
  {
   "cell_type": "markdown",
   "id": "ebd2d12a",
   "metadata": {},
   "source": [
    "9. What is Python?"
   ]
  },
  {
   "cell_type": "code",
   "execution_count": 12,
   "id": "ab9103cd",
   "metadata": {},
   "outputs": [],
   "source": [
    "# Python is an interpreted, object-oriented, high-level programming language with dynamic semantics."
   ]
  },
  {
   "cell_type": "markdown",
   "id": "da42bf79",
   "metadata": {},
   "source": [
    "10. What is jupyter notebook, what type of python environment is it, and what alternatives are there to jupyter notebook?"
   ]
  },
  {
   "cell_type": "code",
   "execution_count": null,
   "id": "cfe5c545",
   "metadata": {},
   "outputs": [],
   "source": [
    "\"\"\"The Jupyter Notebook is an open source web application that you can use to create and share documents that contain live code, equations, visualizations, and text. Jupyter notebook is an interactive development environment (IDE).\n",
    "\n",
    "Alterntatives for Jupter Notebook:\n",
    "PyCharm. \n",
    "Apache Zeppelin\n",
    "RStudio\n",
    "Rodeo IDE\"\"\""
   ]
  }
 ],
 "metadata": {
  "kernelspec": {
   "display_name": "Python 3 (ipykernel)",
   "language": "python",
   "name": "python3"
  },
  "language_info": {
   "codemirror_mode": {
    "name": "ipython",
    "version": 3
   },
   "file_extension": ".py",
   "mimetype": "text/x-python",
   "name": "python",
   "nbconvert_exporter": "python",
   "pygments_lexer": "ipython3",
   "version": "3.9.12"
  }
 },
 "nbformat": 4,
 "nbformat_minor": 5
}
