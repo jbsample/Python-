{
 "cells": [
  {
   "cell_type": "code",
   "execution_count": 3,
   "id": "83eba767",
   "metadata": {},
   "outputs": [
    {
     "name": "stdout",
     "output_type": "stream",
     "text": [
      "Heraldo Memelli 8135627\n",
      "2\n",
      "100 80\n",
      "Name: Memelli, Heraldo\n",
      "ID: 8135627\n",
      "Grade: O\n"
     ]
    }
   ],
   "source": [
    "class Person:\n",
    "\tdef __init__(self, firstName, lastName, idNumber):\n",
    "\t\tself.firstName = firstName\n",
    "\t\tself.lastName = lastName\n",
    "\t\tself.idNumber = idNumber\n",
    "\tdef printPerson(self):\n",
    "\t\tprint(\"Name:\", self.lastName + \",\", self.firstName)\n",
    "\t\tprint(\"ID:\", self.idNumber)\n",
    "class Student(Person):\n",
    "    def __init__(self, firstName, lastName, idNumber, scores):\n",
    "        self.firstName = firstName\n",
    "        self.lastName = lastName\n",
    "        self.idNumber = idNumber\n",
    "        self.scores = scores\n",
    "        \n",
    "    \n",
    "    def calculate(self):\n",
    "        a = sum(scores) / len(scores)\n",
    "        if 90 <= a <= 100:\n",
    "            return \"O\"\n",
    "        elif 80 <= a < 90:\n",
    "            return \"E\"\n",
    "        elif 70 <= a < 90:\n",
    "            return \"A\"\n",
    "        elif 55 <= a < 70:\n",
    "            return \"P\"\n",
    "        elif 40 <= a < 55:\n",
    "            return \"D\"\n",
    "        else:\n",
    "            return \"T\"\n",
    "\n",
    "line = input().split()\n",
    "firstName = line[0]\n",
    "lastName = line[1]\n",
    "idNum = line[2]\n",
    "numScores = int(input()) # not needed for Python\n",
    "scores = list( map(int, input().split()) )\n",
    "s = Student(firstName, lastName, idNum, scores)\n",
    "s.printPerson()\n",
    "print(\"Grade:\", s.calculate())"
   ]
  }
 ],
 "metadata": {
  "kernelspec": {
   "display_name": "Python 3 (ipykernel)",
   "language": "python",
   "name": "python3"
  },
  "language_info": {
   "codemirror_mode": {
    "name": "ipython",
    "version": 3
   },
   "file_extension": ".py",
   "mimetype": "text/x-python",
   "name": "python",
   "nbconvert_exporter": "python",
   "pygments_lexer": "ipython3",
   "version": "3.9.12"
  }
 },
 "nbformat": 4,
 "nbformat_minor": 5
}
